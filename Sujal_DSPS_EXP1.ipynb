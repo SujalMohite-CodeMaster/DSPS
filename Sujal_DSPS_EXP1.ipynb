{
 "cells": [
  {
   "cell_type": "code",
   "execution_count": 1,
   "id": "85f023a8",
   "metadata": {},
   "outputs": [],
   "source": [
    "import pandas as pd\n",
    "import numpy as np"
   ]
  },
  {
   "cell_type": "markdown",
   "id": "180b91f5",
   "metadata": {},
   "source": [
    "# loading the data set"
   ]
  },
  {
   "cell_type": "code",
   "execution_count": 12,
   "id": "104755dc",
   "metadata": {},
   "outputs": [],
   "source": [
    "file_path = r\"C:\\Users\\Dell\\Documents\\Sujal\\DSPS\\car_price_dataset.csv\""
   ]
  },
  {
   "cell_type": "markdown",
   "id": "c9f80634",
   "metadata": {},
   "source": [
    "# Read the CSV file into a DataFrame"
   ]
  },
  {
   "cell_type": "code",
   "execution_count": 14,
   "id": "e6758035",
   "metadata": {},
   "outputs": [],
   "source": [
    "df = pd.read_csv(file_path)"
   ]
  },
  {
   "cell_type": "code",
   "execution_count": 15,
   "id": "f6ab70c6",
   "metadata": {},
   "outputs": [
    {
     "name": "stdout",
     "output_type": "stream",
     "text": [
      "Total number of records in the dataset: 10000\n"
     ]
    }
   ],
   "source": [
    "total_records = df.shape[0]\n",
    "print(f\"Total number of records in the dataset: {total_records}\")"
   ]
  },
  {
   "cell_type": "markdown",
   "id": "a54bb37e",
   "metadata": {},
   "source": [
    "# View the first n rows of the DataFrame"
   ]
  },
  {
   "cell_type": "code",
   "execution_count": 16,
   "id": "990c91a5",
   "metadata": {},
   "outputs": [
    {
     "name": "stdout",
     "output_type": "stream",
     "text": [
      "        Brand   Model  Year  Engine_Size Fuel_Type    Transmission  Mileage  \\\n",
      "0         Kia     Rio  2020          4.2    Diesel          Manual   289944   \n",
      "1   Chevrolet  Malibu  2012          2.0    Hybrid       Automatic     5356   \n",
      "2    Mercedes     GLA  2020          4.2    Diesel       Automatic   231440   \n",
      "3        Audi      Q5  2023          2.0  Electric          Manual   160971   \n",
      "4  Volkswagen    Golf  2003          2.6    Hybrid  Semi-Automatic   286618   \n",
      "\n",
      "   Doors  Owner_Count  Price  \n",
      "0      3            5   8501  \n",
      "1      2            3  12092  \n",
      "2      4            2  11171  \n",
      "3      2            1  11780  \n",
      "4      3            3   2867  \n"
     ]
    }
   ],
   "source": [
    "print(df.head(n=5))"
   ]
  },
  {
   "cell_type": "markdown",
   "id": "c54d5529",
   "metadata": {},
   "source": [
    "# View the last n rows of the DataFrame"
   ]
  },
  {
   "cell_type": "code",
   "execution_count": 17,
   "id": "8bf495f4",
   "metadata": {},
   "outputs": [
    {
     "name": "stdout",
     "output_type": "stream",
     "text": [
      "           Brand     Model  Year  Engine_Size Fuel_Type    Transmission  \\\n",
      "9995         Kia    Optima  2004          3.7    Diesel  Semi-Automatic   \n",
      "9996   Chevrolet    Impala  2002          1.4  Electric       Automatic   \n",
      "9997         BMW  3 Series  2010          3.0    Petrol       Automatic   \n",
      "9998        Ford  Explorer  2002          1.4    Hybrid       Automatic   \n",
      "9999  Volkswagen    Tiguan  2001          2.1    Diesel          Manual   \n",
      "\n",
      "      Mileage  Doors  Owner_Count  Price  \n",
      "9995     5794      2            4   8884  \n",
      "9996   168000      2            1   6240  \n",
      "9997    86664      5            1   9866  \n",
      "9998   225772      4            1   4084  \n",
      "9999   157882      3            3   3342  \n"
     ]
    }
   ],
   "source": [
    "print(df.tail(n=5))"
   ]
  },
  {
   "cell_type": "markdown",
   "id": "c6f4c938",
   "metadata": {},
   "source": [
    "# View the DataFrame info (datatypes, memory usage, etc.)"
   ]
  },
  {
   "cell_type": "code",
   "execution_count": 18,
   "id": "6dd3105c",
   "metadata": {},
   "outputs": [
    {
     "name": "stdout",
     "output_type": "stream",
     "text": [
      "<class 'pandas.core.frame.DataFrame'>\n",
      "RangeIndex: 10000 entries, 0 to 9999\n",
      "Data columns (total 10 columns):\n",
      " #   Column        Non-Null Count  Dtype  \n",
      "---  ------        --------------  -----  \n",
      " 0   Brand         10000 non-null  object \n",
      " 1   Model         10000 non-null  object \n",
      " 2   Year          10000 non-null  int64  \n",
      " 3   Engine_Size   10000 non-null  float64\n",
      " 4   Fuel_Type     10000 non-null  object \n",
      " 5   Transmission  10000 non-null  object \n",
      " 6   Mileage       10000 non-null  int64  \n",
      " 7   Doors         10000 non-null  int64  \n",
      " 8   Owner_Count   10000 non-null  int64  \n",
      " 9   Price         10000 non-null  int64  \n",
      "dtypes: float64(1), int64(5), object(4)\n",
      "memory usage: 781.4+ KB\n",
      "None\n"
     ]
    }
   ],
   "source": [
    "print(df.info())"
   ]
  },
  {
   "cell_type": "markdown",
   "id": "73a73fd9",
   "metadata": {},
   "source": [
    "# View summary statistics of numerical columns"
   ]
  },
  {
   "cell_type": "code",
   "execution_count": 20,
   "id": "086aa64f",
   "metadata": {},
   "outputs": [
    {
     "name": "stdout",
     "output_type": "stream",
     "text": [
      "               Year   Engine_Size        Mileage         Doors   Owner_Count  \\\n",
      "count  10000.000000  10000.000000   10000.000000  10000.000000  10000.000000   \n",
      "mean    2011.543700      3.000560  149239.111800      3.497100      2.991100   \n",
      "std        6.897699      1.149324   86322.348957      1.110097      1.422682   \n",
      "min     2000.000000      1.000000      25.000000      2.000000      1.000000   \n",
      "25%     2006.000000      2.000000   74649.250000      3.000000      2.000000   \n",
      "50%     2012.000000      3.000000  149587.000000      3.000000      3.000000   \n",
      "75%     2017.000000      4.000000  223577.500000      4.000000      4.000000   \n",
      "max     2023.000000      5.000000  299947.000000      5.000000      5.000000   \n",
      "\n",
      "             Price  \n",
      "count  10000.00000  \n",
      "mean    8852.96440  \n",
      "std     3112.59681  \n",
      "min     2000.00000  \n",
      "25%     6646.00000  \n",
      "50%     8858.50000  \n",
      "75%    11086.50000  \n",
      "max    18301.00000  \n"
     ]
    }
   ],
   "source": [
    "print(df.describe())\n"
   ]
  },
  {
   "cell_type": "markdown",
   "id": "5b17446e",
   "metadata": {},
   "source": [
    "# View the shape of the DataFrame (rows, columns)"
   ]
  },
  {
   "cell_type": "code",
   "execution_count": 21,
   "id": "3f5e5565",
   "metadata": {},
   "outputs": [
    {
     "name": "stdout",
     "output_type": "stream",
     "text": [
      "(10000, 10)\n"
     ]
    }
   ],
   "source": [
    "print(df.shape)"
   ]
  },
  {
   "cell_type": "markdown",
   "id": "9bf6a00c",
   "metadata": {},
   "source": [
    "# View the column names"
   ]
  },
  {
   "cell_type": "code",
   "execution_count": 22,
   "id": "56124d7f",
   "metadata": {},
   "outputs": [
    {
     "name": "stdout",
     "output_type": "stream",
     "text": [
      "Index(['Brand', 'Model', 'Year', 'Engine_Size', 'Fuel_Type', 'Transmission',\n",
      "       'Mileage', 'Doors', 'Owner_Count', 'Price'],\n",
      "      dtype='object')\n"
     ]
    }
   ],
   "source": [
    "print(df.columns)"
   ]
  },
  {
   "cell_type": "markdown",
   "id": "ae541d6a",
   "metadata": {},
   "source": [
    "#  view the index of the dataframe"
   ]
  },
  {
   "cell_type": "code",
   "execution_count": 24,
   "id": "4411a352",
   "metadata": {},
   "outputs": [
    {
     "name": "stdout",
     "output_type": "stream",
     "text": [
      "RangeIndex(start=0, stop=10000, step=1)\n"
     ]
    }
   ],
   "source": [
    "print(df.index)\n"
   ]
  },
  {
   "cell_type": "markdown",
   "id": "0687f94f",
   "metadata": {},
   "source": [
    "# Select a single column"
   ]
  },
  {
   "cell_type": "code",
   "execution_count": 25,
   "id": "d16fdd92",
   "metadata": {},
   "outputs": [
    {
     "data": {
      "text/plain": [
       "0              Kia\n",
       "1        Chevrolet\n",
       "2         Mercedes\n",
       "3             Audi\n",
       "4       Volkswagen\n",
       "           ...    \n",
       "9995           Kia\n",
       "9996     Chevrolet\n",
       "9997           BMW\n",
       "9998          Ford\n",
       "9999    Volkswagen\n",
       "Name: Brand, Length: 10000, dtype: object"
      ]
     },
     "execution_count": 25,
     "metadata": {},
     "output_type": "execute_result"
    }
   ],
   "source": [
    "df[\"Brand\"]"
   ]
  },
  {
   "cell_type": "markdown",
   "id": "330ec7a5",
   "metadata": {},
   "source": [
    "# select multiple rows and columns"
   ]
  },
  {
   "cell_type": "code",
   "execution_count": 30,
   "id": "185b28c9",
   "metadata": {},
   "outputs": [
    {
     "name": "stdout",
     "output_type": "stream",
     "text": [
      "         Model  Year\n",
      "0          Rio  2020\n",
      "1       Malibu  2012\n",
      "2          GLA  2020\n",
      "3           Q5  2023\n",
      "4         Golf  2003\n",
      "...        ...   ...\n",
      "9995    Optima  2004\n",
      "9996    Impala  2002\n",
      "9997  3 Series  2010\n",
      "9998  Explorer  2002\n",
      "9999    Tiguan  2001\n",
      "\n",
      "[10000 rows x 2 columns]\n"
     ]
    }
   ],
   "source": [
    "print(df[['Model', 'Year']])"
   ]
  },
  {
   "cell_type": "markdown",
   "id": "239b8a9d",
   "metadata": {},
   "source": [
    "# Select specific rows and columns"
   ]
  },
  {
   "cell_type": "code",
   "execution_count": 31,
   "id": "655b7f82",
   "metadata": {},
   "outputs": [
    {
     "data": {
      "text/plain": [
       "'Mercedes'"
      ]
     },
     "execution_count": 31,
     "metadata": {},
     "output_type": "execute_result"
    }
   ],
   "source": [
    "df.loc[2, 'Brand']"
   ]
  },
  {
   "cell_type": "markdown",
   "id": "da009de9",
   "metadata": {},
   "source": [
    "# Select by condition (Boolean indexing)"
   ]
  },
  {
   "cell_type": "code",
   "execution_count": 35,
   "id": "63dde23d",
   "metadata": {},
   "outputs": [
    {
     "data": {
      "text/plain": [
       "0       True\n",
       "1       True\n",
       "2       True\n",
       "3       True\n",
       "4       True\n",
       "        ... \n",
       "9995    True\n",
       "9996    True\n",
       "9997    True\n",
       "9998    True\n",
       "9999    True\n",
       "Name: Year, Length: 10000, dtype: bool"
      ]
     },
     "execution_count": 35,
     "metadata": {},
     "output_type": "execute_result"
    }
   ],
   "source": [
    "df['Year'] > 5"
   ]
  },
  {
   "cell_type": "markdown",
   "id": "abc1df15",
   "metadata": {},
   "source": [
    "# Adding index filed it will create column of row numbers"
   ]
  },
  {
   "cell_type": "code",
   "execution_count": 37,
   "id": "cdc1e3b2",
   "metadata": {},
   "outputs": [
    {
     "name": "stdout",
     "output_type": "stream",
     "text": [
      "           Brand     Model  Year  Engine_Size Fuel_Type    Transmission  \\\n",
      "0            Kia       Rio  2020          4.2    Diesel          Manual   \n",
      "1      Chevrolet    Malibu  2012          2.0    Hybrid       Automatic   \n",
      "2       Mercedes       GLA  2020          4.2    Diesel       Automatic   \n",
      "3           Audi        Q5  2023          2.0  Electric          Manual   \n",
      "4     Volkswagen      Golf  2003          2.6    Hybrid  Semi-Automatic   \n",
      "...          ...       ...   ...          ...       ...             ...   \n",
      "9995         Kia    Optima  2004          3.7    Diesel  Semi-Automatic   \n",
      "9996   Chevrolet    Impala  2002          1.4  Electric       Automatic   \n",
      "9997         BMW  3 Series  2010          3.0    Petrol       Automatic   \n",
      "9998        Ford  Explorer  2002          1.4    Hybrid       Automatic   \n",
      "9999  Volkswagen    Tiguan  2001          2.1    Diesel          Manual   \n",
      "\n",
      "      Mileage  Doors  Owner_Count  Price  IndexFilld  \n",
      "0      289944      3            5   8501           0  \n",
      "1        5356      2            3  12092           1  \n",
      "2      231440      4            2  11171           2  \n",
      "3      160971      2            1  11780           3  \n",
      "4      286618      3            3   2867           4  \n",
      "...       ...    ...          ...    ...         ...  \n",
      "9995     5794      2            4   8884        9995  \n",
      "9996   168000      2            1   6240        9996  \n",
      "9997    86664      5            1   9866        9997  \n",
      "9998   225772      4            1   4084        9998  \n",
      "9999   157882      3            3   3342        9999  \n",
      "\n",
      "[10000 rows x 11 columns]\n"
     ]
    }
   ],
   "source": [
    "df[\"IndexFilld\"] = np.arange(len(df))\n",
    "print(df)"
   ]
  },
  {
   "cell_type": "code",
   "execution_count": null,
   "id": "86d14288",
   "metadata": {},
   "outputs": [],
   "source": []
  }
 ],
 "metadata": {
  "kernelspec": {
   "display_name": "Python 3 (ipykernel)",
   "language": "python",
   "name": "python3"
  },
  "language_info": {
   "codemirror_mode": {
    "name": "ipython",
    "version": 3
   },
   "file_extension": ".py",
   "mimetype": "text/x-python",
   "name": "python",
   "nbconvert_exporter": "python",
   "pygments_lexer": "ipython3",
   "version": "3.11.5"
  }
 },
 "nbformat": 4,
 "nbformat_minor": 5
}
