{
 "cells": [
  {
   "cell_type": "markdown",
   "id": "7d3db190-d552-4b94-84ff-07b1e9222905",
   "metadata": {},
   "source": [
    "# Perform logistic regression to find out the relation between variables.\n",
    "# Apply a regression model technique to predict the data."
   ]
  },
  {
   "cell_type": "markdown",
   "id": "033afdd2-c3fa-4402-a7e4-cf56cc59cf5a",
   "metadata": {},
   "source": [
    "# Loading the data set\n"
   ]
  },
  {
   "cell_type": "code",
   "execution_count": 1,
   "id": "d0f803e1-090b-4805-a8e9-e9e1cc801ee5",
   "metadata": {},
   "outputs": [],
   "source": [
    "file_path = r\"C:\\Users\\mohit\\OneDrive\\Documents\\DSPS\\DSPS\\car_price_dataset.csv\""
   ]
  },
  {
   "cell_type": "code",
   "execution_count": 2,
   "id": "6b0d5d73-43f0-4a00-bb1f-2d0dbb92904e",
   "metadata": {},
   "outputs": [],
   "source": [
    "import pandas as pd\n",
    "from sklearn.model_selection import train_test_split\n",
    "from sklearn.linear_model import LogisticRegression, LinearRegression\n",
    "from sklearn.metrics import accuracy_score, mean_squared_error\n"
   ]
  },
  {
   "cell_type": "code",
   "execution_count": 3,
   "id": "94af87a7-6fd4-4323-b804-9b5e07a976e9",
   "metadata": {},
   "outputs": [],
   "source": [
    "df = pd.read_csv(file_path)\n"
   ]
  },
  {
   "cell_type": "markdown",
   "id": "196aca41-e203-40ff-97f0-78989be857e1",
   "metadata": {},
   "source": [
    "# Logistic Regression\n",
    "# For logistic regression, we need a binary target variable. Let's assume 'Brand' is the target variable\n",
    "# Encode the target variable"
   ]
  },
  {
   "cell_type": "code",
   "execution_count": 4,
   "id": "0663f92a-4f0f-475b-ac5b-de89fe56682c",
   "metadata": {},
   "outputs": [],
   "source": [
    "df['Brand_encoded'] = df['Brand'].apply(lambda x: 1 if x == 'BMW' else 0)"
   ]
  },
  {
   "cell_type": "code",
   "execution_count": 6,
   "id": "850145d3-c6cc-493b-97d6-a20f3652e859",
   "metadata": {},
   "outputs": [],
   "source": [
    "# Select features and target variable\n",
    "X = df[['Price', 'Mileage']]  \n",
    "y = df['Brand_encoded']"
   ]
  },
  {
   "cell_type": "code",
   "execution_count": 7,
   "id": "b3784612-2645-43e7-9a67-9360562f46cf",
   "metadata": {},
   "outputs": [
    {
     "name": "stdout",
     "output_type": "stream",
     "text": [
      "Logistic Regression Accuracy: 0.8945\n"
     ]
    }
   ],
   "source": [
    "# Split the data into training and testing sets\n",
    "X_train, X_test, y_train, y_test = train_test_split(X, y, test_size=0.2, random_state=42)\n",
    "\n",
    "# Create and train the logistic regression model\n",
    "log_reg = LogisticRegression()\n",
    "log_reg.fit(X_train, y_train)\n",
    "\n",
    "# Predict and evaluate the model\n",
    "y_pred = log_reg.predict(X_test)\n",
    "accuracy = accuracy_score(y_test, y_pred)\n",
    "print(f\"Logistic Regression Accuracy: {accuracy}\")"
   ]
  },
  {
   "cell_type": "markdown",
   "id": "275ba5f8-5b92-41c9-9deb-686bf7b67221",
   "metadata": {},
   "source": [
    "# Linear Regression\n",
    "# For linear regression, we can predict 'Price' based on other features\n",
    "# Select features and target variable"
   ]
  },
  {
   "cell_type": "code",
   "execution_count": 8,
   "id": "f3683947-e89c-4a98-bad8-72cca6098510",
   "metadata": {},
   "outputs": [
    {
     "name": "stdout",
     "output_type": "stream",
     "text": [
      "Linear Regression Mean Squared Error: 6413212.319091444\n"
     ]
    }
   ],
   "source": [
    "X = df[['Mileage']]  \n",
    "y = df['Price']\n",
    "\n",
    "# Split the data into training and testing sets\n",
    "X_train, X_test, y_train, y_test = train_test_split(X, y, test_size=0.2, random_state=42)\n",
    "\n",
    "# Create and train the linear regression model\n",
    "lin_reg = LinearRegression()\n",
    "lin_reg.fit(X_train, y_train)\n",
    "\n",
    "# Predict and evaluate the model\n",
    "y_pred = lin_reg.predict(X_test)\n",
    "mse = mean_squared_error(y_test, y_pred)\n",
    "print(f\"Linear Regression Mean Squared Error: {mse}\")"
   ]
  },
  {
   "cell_type": "code",
   "execution_count": 10,
   "id": "1b223697-1512-4393-999d-c4367a19adec",
   "metadata": {},
   "outputs": [
    {
     "name": "stdout",
     "output_type": "stream",
     "text": [
      "Predicted Prices: [11806.26693733 11805.269957  ]\n"
     ]
    }
   ],
   "source": [
    "# Predicting new data\n",
    "new_data = pd.DataFrame({'Mileage': [150, 200]})  \n",
    "predicted_prices = lin_reg.predict(new_data)\n",
    "print(f\"Predicted Prices: {predicted_prices}\")"
   ]
  },
  {
   "cell_type": "code",
   "execution_count": null,
   "id": "21dedfc3-de2b-40da-a12e-e645f627d5a3",
   "metadata": {},
   "outputs": [],
   "source": []
  }
 ],
 "metadata": {
  "kernelspec": {
   "display_name": "Python 3 (ipykernel)",
   "language": "python",
   "name": "python3"
  },
  "language_info": {
   "codemirror_mode": {
    "name": "ipython",
    "version": 3
   },
   "file_extension": ".py",
   "mimetype": "text/x-python",
   "name": "python",
   "nbconvert_exporter": "python",
   "pygments_lexer": "ipython3",
   "version": "3.12.2"
  }
 },
 "nbformat": 4,
 "nbformat_minor": 5
}
