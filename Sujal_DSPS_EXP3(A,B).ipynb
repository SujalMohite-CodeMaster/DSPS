{
 "cells": [
  {
   "cell_type": "markdown",
   "id": "3f67f624-e5f5-454e-b14b-240e05df6c14",
   "metadata": {},
   "source": [
    "# Data Modelling 1.Indentify the total number of records in the trainging data set. "
   ]
  },
  {
   "cell_type": "code",
   "execution_count": 1,
   "id": "deb0c5a4-e75e-4eab-8316-d55db4c08c55",
   "metadata": {},
   "outputs": [],
   "source": [
    "import pandas as pd\n",
    "import numpy as np\n",
    "import matplotlib as pyt"
   ]
  },
  {
   "cell_type": "markdown",
   "id": "565a4b02-34d0-4434-b165-474acf90fa98",
   "metadata": {},
   "source": [
    "# Loading the dataset"
   ]
  },
  {
   "cell_type": "code",
   "execution_count": 2,
   "id": "121498b8-497c-4582-9aa1-cbaa5d6f8180",
   "metadata": {},
   "outputs": [],
   "source": [
    "file_path = r\"C:\\Users\\mohit\\OneDrive\\Documents\\DSPS\\DSPS\\car_price_dataset.csv\""
   ]
  },
  {
   "cell_type": "markdown",
   "id": "3f43b2be-4888-4f0b-976b-ee02dec29ac7",
   "metadata": {},
   "source": [
    "# creating a DataFrame of the dataset."
   ]
  },
  {
   "cell_type": "code",
   "execution_count": 6,
   "id": "31656eef-5ef8-418f-8a9e-f3529f1dd03c",
   "metadata": {},
   "outputs": [],
   "source": [
    "df = pd.read_csv(file_path)"
   ]
  },
  {
   "cell_type": "markdown",
   "id": "d18d8931-e362-4307-bdae-560db35bfa1b",
   "metadata": {},
   "source": [
    "# Count total number of records in dataset"
   ]
  },
  {
   "cell_type": "code",
   "execution_count": 8,
   "id": "29737c85-3bc1-419d-a037-47ed2680de22",
   "metadata": {},
   "outputs": [
    {
     "name": "stdout",
     "output_type": "stream",
     "text": [
      "Total number of records in training dataset: 10000\n"
     ]
    }
   ],
   "source": [
    "\n",
    "num_records_train = df.shape[0]\n",
    "print(f\"Total number of records in training dataset: {num_records_train}\")\n"
   ]
  },
  {
   "cell_type": "markdown",
   "id": "c421723c-001e-44ec-ac8e-f8d1c83d5d59",
   "metadata": {},
   "source": [
    "# 2.Validate your partition by performing a  two-sample Z-test."
   ]
  },
  {
   "cell_type": "code",
   "execution_count": 9,
   "id": "44453b5b-763a-4fa5-94ad-0af9018d3302",
   "metadata": {},
   "outputs": [],
   "source": [
    "from statsmodels.stats.weightstats import ztest\n"
   ]
  },
  {
   "cell_type": "code",
   "execution_count": 19,
   "id": "6cfbc4c8-be59-4fd7-b2c6-7bec90bdefd3",
   "metadata": {},
   "outputs": [
    {
     "name": "stdout",
     "output_type": "stream",
     "text": [
      "Z-statistic: 1.9536596857789905\n",
      "P-value: 0.05074147695038522\n",
      "Fail to reject the null hypothesis: There is no significant difference between the two groups.\n"
     ]
    }
   ],
   "source": [
    "group_a = df[df['Brand'] == 'Mercedes']['Price']\n",
    "group_b = df[df['Brand'] == 'BMW']['Price']\n",
    "\n",
    "# Check if the groups are empty\n",
    "if group_a.empty or group_b.empty:\n",
    "    print(\"One or both of the groups are empty. Please check the Brand names and try again.\")\n",
    "else:\n",
    "    # Perform two-sample Z-test\n",
    "    z_stat, p_value = ztest(group_a, group_b)\n",
    "\n",
    "    print(f\"Z-statistic: {z_stat}\")\n",
    "    print(f\"P-value: {p_value}\")\n",
    "\n",
    "    # Interpretation\n",
    "    alpha = 0.05\n",
    "    if p_value < alpha:\n",
    "        print(\"Reject the null hypothesis: There is a significant difference between the two groups.\")\n",
    "    else:\n",
    "        print(\"Fail to reject the null hypothesis: There is no significant difference between the two groups.\")"
   ]
  },
  {
   "cell_type": "code",
   "execution_count": 18,
   "id": "62033d3a",
   "metadata": {},
   "outputs": [
    {
     "name": "stdout",
     "output_type": "stream",
     "text": [
      "Z-statistic: -2.241599303649159\n",
      "P-value: 0.02498728102971489\n",
      "Reject the null hypothesis: There is a significant difference between the two groups.\n"
     ]
    }
   ],
   "source": [
    "\n",
    "group_a = df[df['Brand'] == 'Honda']['Price']\n",
    "group_b = df[df['Brand'] == 'Mercedes']['Price']\n",
    "\n",
    "# Check if the groups are empty\n",
    "if group_a.empty or group_b.empty:\n",
    "    print(\"One or both of the groups are empty. Please check the Brand names and try again.\")\n",
    "else:\n",
    "    # Perform two-sample Z-test\n",
    "    z_stat, p_value = ztest(group_a, group_b)\n",
    "\n",
    "    print(f\"Z-statistic: {z_stat}\")\n",
    "    print(f\"P-value: {p_value}\")\n",
    "\n",
    "    # Interpretation\n",
    "    alpha = 0.05\n",
    "    if p_value < alpha:\n",
    "        print(\"Reject the null hypothesis: There is a significant difference between the two groups.\")\n",
    "    else:\n",
    "        print(\"Fail to reject the null hypothesis: There is no significant difference between the two groups.\")"
   ]
  },
  {
   "cell_type": "code",
   "execution_count": null,
   "id": "369c61c6-c629-4892-8571-88a7874923d5",
   "metadata": {},
   "outputs": [],
   "source": []
  },
  {
   "cell_type": "code",
   "execution_count": null,
   "id": "0e0e5c25-3ce9-4bf8-ac00-d28671bd00e3",
   "metadata": {},
   "outputs": [],
   "source": []
  }
 ],
 "metadata": {
  "kernelspec": {
   "display_name": "Python 3 (ipykernel)",
   "language": "python",
   "name": "python3"
  },
  "language_info": {
   "codemirror_mode": {
    "name": "ipython",
    "version": 3
   },
   "file_extension": ".py",
   "mimetype": "text/x-python",
   "name": "python",
   "nbconvert_exporter": "python",
   "pygments_lexer": "ipython3",
   "version": "3.12.2"
  }
 },
 "nbformat": 4,
 "nbformat_minor": 5
}
