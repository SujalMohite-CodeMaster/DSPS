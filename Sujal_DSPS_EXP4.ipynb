{
 "cells": [
  {
   "cell_type": "markdown",
   "id": "c24d9326-51e4-4b2a-bd9d-e82efcacf84a",
   "metadata": {},
   "source": [
    "# To implement various statistical hypothesis tests using scipy and scikit-learn, you can follow these steps:\n",
    "\n",
    "# Pearson's Correlation Coefficient\n",
    "# Spearman's Rank Correlation\n",
    "# Kendall's Rank Correlation\n",
    "# Chi-Squared Test"
   ]
  },
  {
   "cell_type": "code",
   "execution_count": 2,
   "id": "43e757d0-0af3-46cf-b93a-126f7460bf21",
   "metadata": {},
   "outputs": [],
   "source": [
    "import pandas as pd\n",
    "from scipy.stats import pearsonr ,spearmanr, kendalltau, chi2_contingency\n",
    "from sklearn.preprocessing import LabelEncoder"
   ]
  },
  {
   "cell_type": "markdown",
   "id": "e3849704-f76c-4315-8136-fd1d49281495",
   "metadata": {},
   "source": [
    "# Loading the Dataset"
   ]
  },
  {
   "cell_type": "code",
   "execution_count": 3,
   "id": "f6f96a26-84ea-4b87-8a14-2dd00cd7e6cf",
   "metadata": {},
   "outputs": [],
   "source": [
    "file_path = r\"C:\\Users\\mohit\\OneDrive\\Documents\\DSPS\\DSPS\\car_price_dataset.csv\""
   ]
  },
  {
   "cell_type": "code",
   "execution_count": 4,
   "id": "8429b48e-235a-4c49-960a-f92c4ef97fda",
   "metadata": {},
   "outputs": [],
   "source": [
    "df = pd.read_csv(file_path)"
   ]
  },
  {
   "cell_type": "markdown",
   "id": "7672eb54-ab6e-4625-8213-72782215c76b",
   "metadata": {},
   "source": [
    "# 1. Pearson's Correlation Coefficient"
   ]
  },
  {
   "cell_type": "code",
   "execution_count": 6,
   "id": "39e3ad8d-f7d2-4a72-b2fb-554a3cd0b35b",
   "metadata": {},
   "outputs": [
    {
     "name": "stdout",
     "output_type": "stream",
     "text": [
      "Pearson's Correlation Coefficient: -0.5512271827629015, P-value: 0.0\n"
     ]
    }
   ],
   "source": [
    "pearson_corr, pearson_p_value = pearsonr(df['Price'], df['Mileage'])\n",
    "print(f\"Pearson's Correlation Coefficient: {pearson_corr}, P-value: {pearson_p_value}\")"
   ]
  },
  {
   "cell_type": "markdown",
   "id": "ea874a02-d868-4381-a0a9-b67deadd14d5",
   "metadata": {},
   "source": [
    "# 2. Spearman's Rank Correlation"
   ]
  },
  {
   "cell_type": "code",
   "execution_count": 7,
   "id": "96049d95-68d2-4112-818c-a7ae61e24f6d",
   "metadata": {},
   "outputs": [
    {
     "name": "stdout",
     "output_type": "stream",
     "text": [
      "Spearman's Rank Correlation: -0.5433205298382239, P-value: 0.0\n"
     ]
    }
   ],
   "source": [
    "spearman_corr, spearman_p_value = spearmanr(df['Price'], df['Mileage'])\n",
    "print(f\"Spearman's Rank Correlation: {spearman_corr}, P-value: {spearman_p_value}\")\n"
   ]
  },
  {
   "cell_type": "markdown",
   "id": "3403b989-82cf-4a25-823d-421f920d99f2",
   "metadata": {},
   "source": [
    "# 3. Kendall's Rank Correlation"
   ]
  },
  {
   "cell_type": "code",
   "execution_count": 8,
   "id": "1bee9707-75bb-4b12-a380-51b5505c2132",
   "metadata": {},
   "outputs": [
    {
     "name": "stdout",
     "output_type": "stream",
     "text": [
      "Kendall's Rank Correlation: -0.3749150853834836, P-value: 0.0\n"
     ]
    }
   ],
   "source": [
    "kendall_corr, kendall_p_value = kendalltau(df['Price'], df['Mileage'])\n",
    "print(f\"Kendall's Rank Correlation: {kendall_corr}, P-value: {kendall_p_value}\")\n"
   ]
  },
  {
   "cell_type": "code",
   "execution_count": null,
   "id": "5c997d6d-33de-4ef9-96c7-8c63bceb9eef",
   "metadata": {},
   "outputs": [],
   "source": []
  }
 ],
 "metadata": {
  "kernelspec": {
   "display_name": "Python 3 (ipykernel)",
   "language": "python",
   "name": "python3"
  },
  "language_info": {
   "codemirror_mode": {
    "name": "ipython",
    "version": 3
   },
   "file_extension": ".py",
   "mimetype": "text/x-python",
   "name": "python",
   "nbconvert_exporter": "python",
   "pygments_lexer": "ipython3",
   "version": "3.12.2"
  }
 },
 "nbformat": 4,
 "nbformat_minor": 5
}
